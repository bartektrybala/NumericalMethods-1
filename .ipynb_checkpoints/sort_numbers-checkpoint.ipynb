{
 "cells": [
  {
   "cell_type": "code",
   "execution_count": 11,
   "metadata": {},
   "outputs": [
    {
     "name": "stdout",
     "output_type": "stream",
     "text": [
      "[29, 37, 89, 50, 48, 90, 39, 73, 53, 84, 77, 79, 74, 29, 20, 66, 95]\n",
      "[20, 29, 29, 37, 39, 48, 50, 53, 66, 73, 74, 77, 79, 84, 89, 90, 95]\n"
     ]
    }
   ],
   "source": [
    "#sort method\n",
    "import random\n",
    "A = [random.randint(1,100) for i in  range(random.randint(10,20))]\n",
    "print(A)\n",
    "A.sort()\n",
    "print(A)"
   ]
  },
  {
   "cell_type": "code",
   "execution_count": 14,
   "metadata": {},
   "outputs": [
    {
     "name": "stdout",
     "output_type": "stream",
     "text": [
      "[8, 22, 58, 94, 9, 54, 5, 37, 79, 84, 86, 80, 42, 26, 95, 88]\n",
      "[5, 8, 9, 22, 26, 37, 42, 54, 58, 79, 80, 84, 86, 88, 94, 95]\n"
     ]
    }
   ],
   "source": [
    "#sorted method\n",
    "B = [random.randint(1,100) for i in range(random.randint(10,20))]\n",
    "print(B) \n",
    "print(sorted(B))"
   ]
  },
  {
   "cell_type": "code",
   "execution_count": null,
   "metadata": {},
   "outputs": [],
   "source": []
  }
 ],
 "metadata": {
  "kernelspec": {
   "display_name": "Python 3",
   "language": "python",
   "name": "python3"
  },
  "language_info": {
   "codemirror_mode": {
    "name": "ipython",
    "version": 3
   },
   "file_extension": ".py",
   "mimetype": "text/x-python",
   "name": "python",
   "nbconvert_exporter": "python",
   "pygments_lexer": "ipython3",
   "version": "3.7.3"
  }
 },
 "nbformat": 4,
 "nbformat_minor": 2
}
